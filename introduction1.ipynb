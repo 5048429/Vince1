{
 "cells": [
  {
   "cell_type": "code",
   "execution_count": 4,
   "id": "37be76e1-25e8-4d1c-8adf-520e518ba71a",
   "metadata": {},
   "outputs": [
    {
     "name": "stdout",
     "output_type": "stream",
     "text": [
      "1\n",
      "3\n",
      "5\n",
      "7\n",
      "9\n",
      "11\n",
      "13\n",
      "15\n",
      "17\n",
      "19\n",
      "21\n",
      "23\n",
      "25\n",
      "27\n",
      "29\n",
      "31\n",
      "33\n",
      "35\n",
      "37\n",
      "39\n",
      "41\n",
      "43\n",
      "45\n",
      "47\n",
      "49\n",
      "51\n",
      "53\n",
      "55\n",
      "57\n",
      "59\n",
      "61\n",
      "63\n",
      "65\n",
      "67\n",
      "69\n",
      "71\n",
      "73\n",
      "75\n",
      "77\n",
      "79\n",
      "81\n",
      "83\n",
      "85\n",
      "87\n",
      "89\n",
      "91\n",
      "93\n",
      "95\n",
      "97\n",
      "99\n",
      "58435841445947272053455474390625\n"
     ]
    }
   ],
   "source": [
    "i=1\n",
    "a=1\n",
    "for i in range(100):\n",
    "    if i%2==0:\n",
    "        i+1\n",
    "    else:\n",
    "        print(i)\n",
    "        if i<=50:\n",
    "            a*=i\n",
    "print(a)            \n",
    "            \n",
    "        "
   ]
  },
  {
   "cell_type": "code",
   "execution_count": 5,
   "id": "7d2f199c-f0a7-4fca-9bf2-7c5ea0cb6fd9",
   "metadata": {},
   "outputs": [
    {
     "name": "stdout",
     "output_type": "stream",
     "text": [
      "[5, 4, 3, 2, 1]\n"
     ]
    }
   ],
   "source": [
    "l = [1,2,3,4,5]\n",
    "print(l[::-1])"
   ]
  },
  {
   "cell_type": "code",
   "execution_count": 16,
   "id": "3b3f955c-5b4e-457c-ba4e-137054906063",
   "metadata": {},
   "outputs": [
    {
     "name": "stdout",
     "output_type": "stream",
     "text": [
      "5\n",
      "4\n",
      "3\n",
      "2\n",
      "1\n"
     ]
    }
   ],
   "source": [
    "l = [1,2,3,4,5]\n",
    "l.reverse()\n",
    "for i in l:\n",
    "   print(i)"
   ]
  },
  {
   "cell_type": "code",
   "execution_count": 15,
   "id": "fec753d2-bcc0-4384-a9e4-3afd197261ae",
   "metadata": {},
   "outputs": [
    {
     "name": "stdout",
     "output_type": "stream",
     "text": [
      "5\n",
      "4\n",
      "3\n",
      "2\n",
      "1\n"
     ]
    }
   ],
   "source": [
    "l = [1,2,3,4,5]\n",
    "i=len(l)-1\n",
    "while i>=0:\n",
    "    print(l[i])\n",
    "    i-=1"
   ]
  },
  {
   "cell_type": "code",
   "execution_count": null,
   "id": "7e7fa5d5-e5ca-4a33-9ab3-7cc2f95670aa",
   "metadata": {},
   "outputs": [],
   "source": []
  },
  {
   "cell_type": "code",
   "execution_count": 21,
   "id": "00b0379e-a1cf-4ced-8c66-f96220e71409",
   "metadata": {},
   "outputs": [
    {
     "name": "stdin",
     "output_type": "stream",
     "text": [
      " asdasfdj\n"
     ]
    },
    {
     "name": "stdout",
     "output_type": "stream",
     "text": [
      "不包含\n"
     ]
    }
   ],
   "source": [
    "s=input()\n",
    "maxpow=1\n",
    "pow=1\n",
    "for i in range(1,len(s)):\n",
    "    if s[i]==s[i-1]:\n",
    "        pow+=1\n",
    "        maxpow=max(maxpow,pow)\n",
    "    else:\n",
    "        pow=1\n",
    "if maxpow==1:\n",
    "     print(\"不包含\")\n",
    "else:\n",
    "     print(maxpow)\n"
   ]
  },
  {
   "cell_type": "code",
   "execution_count": 24,
   "id": "58c05957-1ffa-4726-8f63-2f0022eadeae",
   "metadata": {},
   "outputs": [
    {
     "name": "stdin",
     "output_type": "stream",
     "text": [
      " sdasd asdjh asdh\n"
     ]
    },
    {
     "data": {
      "text/plain": [
       "'sdasdasdjhasdh'"
      ]
     },
     "execution_count": 24,
     "metadata": {},
     "output_type": "execute_result"
    }
   ],
   "source": [
    "s=input()\n",
    "s.replace(\" \",\"\")\n",
    "\n"
   ]
  },
  {
   "cell_type": "code",
   "execution_count": 29,
   "id": "99f0ec9b-4f5e-4b3b-b214-6943a65d0433",
   "metadata": {},
   "outputs": [
    {
     "name": "stdout",
     "output_type": "stream",
     "text": [
      "0.584253\n"
     ]
    }
   ],
   "source": [
    "import random\n",
    "import math\n",
    "\n",
    "S = 10\n",
    "N = 10000000\n",
    "C = 0\n",
    "for i in range(N):\n",
    "    x = random.uniform(0,1)\n",
    "    y = random.uniform(0.0, 10)\n",
    "    if y <= x **3+x **2:\n",
    "        C += 1\n",
    "I = C * S / N\n",
    "print(I)"
   ]
  },
  {
   "cell_type": "code",
   "execution_count": null,
   "id": "551faaac-cb19-4ff3-9d38-c0bce331bfa4",
   "metadata": {},
   "outputs": [],
   "source": [
    "c=2\n",
    "g=0\n",
    "for j in range(0,c+1):\n",
    "    if j*j>c and g==0:\n",
    "        g=j-1\n",
    "while abs(g*g-c)>0.00001:\n",
    "    g+=0.00001\n",
    "    i=i+1\n",
    "    print(g)\n"
   ]
  },
  {
   "cell_type": "code",
   "execution_count": null,
   "id": "a165d66a-3333-4edc-9f5f-ab9491dbe264",
   "metadata": {},
   "outputs": [],
   "source": [
    "c=2\n",
    "mmax=c\n",
    "mmin=0\n",
    "g=(mmax+mmin)/2\n",
    "while abs(g*g-c)>0.000000001:\n",
    "    if g*g<c:\n",
    "        mmin=g\n",
    "    else:\n",
    "        mmax=g\n",
    "    g=(mmax+mmin)/2\n",
    "    print(g)"
   ]
  },
  {
   "cell_type": "code",
   "execution_count": null,
   "id": "94502508-c8bb-4ca0-80f5-e58a4d124e07",
   "metadata": {},
   "outputs": [],
   "source": [
    "c=2\n",
    "g=c/2\n",
    "while abs(g*g-c)>0.00000001:\n",
    "    g=(g+c/g)/2\n",
    "    print(g)"
   ]
  },
  {
   "cell_type": "code",
   "execution_count": null,
   "id": "2b9def04-9f46-43e6-bc83-0ce844999638",
   "metadata": {},
   "outputs": [],
   "source": []
  }
 ],
 "metadata": {
  "kernelspec": {
   "display_name": "Python 3 (ipykernel)",
   "language": "python",
   "name": "python3"
  },
  "language_info": {
   "codemirror_mode": {
    "name": "ipython",
    "version": 3
   },
   "file_extension": ".py",
   "mimetype": "text/x-python",
   "name": "python",
   "nbconvert_exporter": "python",
   "pygments_lexer": "ipython3",
   "version": "3.9.12"
  }
 },
 "nbformat": 4,
 "nbformat_minor": 5
}
